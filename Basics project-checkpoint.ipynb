{
 "cells": [
  {
   "cell_type": "markdown",
   "id": "65703474-5129-4772-a1be-6ca9789bd8e7",
   "metadata": {},
   "source": [
    "# Variables and Strings"
   ]
  },
  {
   "cell_type": "markdown",
   "id": "d3e1132f-90f5-4a6f-b332-97b9a0b2f86e",
   "metadata": {},
   "source": [
    "Variables are used to store values. A string is a series of \r\n",
    "characters, surrounded by single or double quotes."
   ]
  },
  {
   "cell_type": "code",
   "execution_count": 1,
   "id": "1fd67668-ea7d-4203-82cb-7b05c73fa4b1",
   "metadata": {},
   "outputs": [
    {
     "name": "stdout",
     "output_type": "stream",
     "text": [
      "Hello World\n"
     ]
    }
   ],
   "source": [
    "print(\"Hello World\")"
   ]
  },
  {
   "cell_type": "markdown",
   "id": "20b4fa13-cd1c-483e-a8b2-b0c871d653b1",
   "metadata": {},
   "source": [
    "Hello world with a variable"
   ]
  },
  {
   "cell_type": "code",
   "execution_count": 2,
   "id": "ec26b74c-b812-4127-9126-4ee27eeff820",
   "metadata": {},
   "outputs": [
    {
     "name": "stdout",
     "output_type": "stream",
     "text": [
      "Hello world!\n"
     ]
    }
   ],
   "source": [
    "msg = \"Hello world!\"\n",
    "print(msg)"
   ]
  },
  {
   "cell_type": "markdown",
   "id": "5741ca82-68fb-40c7-911c-95790fc2c617",
   "metadata": {},
   "source": [
    "Concatenation (combining strings)"
   ]
  },
  {
   "cell_type": "code",
   "execution_count": 15,
   "id": "91fd1778-c6e3-477e-bf75-3d9ad5c643d6",
   "metadata": {},
   "outputs": [
    {
     "name": "stdout",
     "output_type": "stream",
     "text": [
      "Jakkula Rama venkata Simha Chandra\n"
     ]
    }
   ],
   "source": [
    "first_name = 'Jakkula Rama venkata' \n",
    "last_name = 'Simha Chandra' \n",
    "full_name = first_name + ' ' + last_name \n",
    "print(full_name)"
   ]
  },
  {
   "cell_type": "markdown",
   "id": "470f6c2d-d659-4dfb-8ebc-ddc9cd70f70d",
   "metadata": {},
   "source": [
    "# Lists\r\n",
    "A list stores a series of items in a particular order. You \r\n",
    "access items using an index, or within a loop. "
   ]
  },
  {
   "cell_type": "markdown",
   "id": "82ed0734-f3b6-48bb-a8e4-43ec87254771",
   "metadata": {},
   "source": [
    "Make a list"
   ]
  },
  {
   "cell_type": "code",
   "execution_count": 5,
   "id": "8c0f0ef9-6461-494c-966f-2e57c1a70ebc",
   "metadata": {},
   "outputs": [],
   "source": [
    "bikes = ['trek', 'redline', 'giant']"
   ]
  },
  {
   "cell_type": "markdown",
   "id": "122dba88-d281-4a5a-892d-a8db9b942712",
   "metadata": {},
   "source": [
    "Get the first item in a list"
   ]
  },
  {
   "cell_type": "code",
   "execution_count": 6,
   "id": "c4075bbb-5f84-4027-8aed-49589fec94a6",
   "metadata": {},
   "outputs": [],
   "source": [
    "first_bike = bikes[0]"
   ]
  },
  {
   "cell_type": "markdown",
   "id": "7d88bff6-2c2f-40ee-94d8-8911bd210c37",
   "metadata": {},
   "source": [
    "Get the last item in a list\n",
    "last_bike = bikes[-1]"
   ]
  },
  {
   "cell_type": "code",
   "execution_count": 8,
   "id": "a7a3d46a-bb81-4fa4-bd99-263e5411bbd8",
   "metadata": {},
   "outputs": [],
   "source": [
    "last_bike = bikes[-1]"
   ]
  },
  {
   "cell_type": "markdown",
   "id": "8bbff952-cec5-4b3d-b3e2-5c7240adc804",
   "metadata": {},
   "source": [
    "Looping through a list"
   ]
  },
  {
   "cell_type": "code",
   "execution_count": 9,
   "id": "723506d7-3f82-4d66-8068-4eddcfc1f065",
   "metadata": {},
   "outputs": [
    {
     "name": "stdout",
     "output_type": "stream",
     "text": [
      "trek\n",
      "redline\n",
      "giant\n"
     ]
    }
   ],
   "source": [
    "for bike in bikes: \n",
    "    print(bike)"
   ]
  },
  {
   "cell_type": "markdown",
   "id": "c1ced849-fbe7-4dc7-950b-ddfaf370162e",
   "metadata": {},
   "source": [
    "Adding items to a list"
   ]
  },
  {
   "cell_type": "code",
   "execution_count": 10,
   "id": "c6cd40ca-1ee0-483b-9963-61de992c406d",
   "metadata": {},
   "outputs": [],
   "source": [
    "bikes = [] \n",
    "bikes.append('trek') \n",
    "bikes.append('redline') \n",
    "bikes.append('giant') "
   ]
  },
  {
   "cell_type": "markdown",
   "id": "c5b350a7-9803-4168-8297-afc39667001d",
   "metadata": {},
   "source": [
    "Making numerical lists"
   ]
  },
  {
   "cell_type": "code",
   "execution_count": 11,
   "id": "d39358aa-f963-488e-9159-344b9af7272c",
   "metadata": {},
   "outputs": [],
   "source": [
    "squares = [] \n",
    "for x in range(1, 11): \n",
    "    squares.append(x**2)"
   ]
  },
  {
   "cell_type": "markdown",
   "id": "07806d82-b7c0-4b72-aed9-070dd36b7c3a",
   "metadata": {},
   "source": [
    "List comprehensions"
   ]
  },
  {
   "cell_type": "code",
   "execution_count": 12,
   "id": "9abc116d-752c-4838-af07-66b415c19397",
   "metadata": {},
   "outputs": [],
   "source": [
    "squares = [x**2 for x in range(1, 11)]"
   ]
  },
  {
   "cell_type": "markdown",
   "id": "7d64e303-cdb8-463d-b696-cd0f608c1fa5",
   "metadata": {},
   "source": [
    "Slicing a list"
   ]
  },
  {
   "cell_type": "code",
   "execution_count": 13,
   "id": "e405496d-c14a-4052-976a-c5b9da279e74",
   "metadata": {},
   "outputs": [],
   "source": [
    "finishers = ['sam', 'bob', 'ada', 'bea'] \n",
    "first_two = finishers[:2]"
   ]
  },
  {
   "cell_type": "markdown",
   "id": "b2438596-b01a-47ce-ae02-1516158477a4",
   "metadata": {},
   "source": [
    "Copying a list"
   ]
  },
  {
   "cell_type": "code",
   "execution_count": 14,
   "id": "0506d6eb-1a8f-431a-afc9-c06708d08830",
   "metadata": {},
   "outputs": [],
   "source": [
    "copy_of_bikes = bikes[:]"
   ]
  },
  {
   "cell_type": "code",
   "execution_count": 17,
   "id": "7df2d7b9-357e-418a-974f-069d923022bf",
   "metadata": {},
   "outputs": [
    {
     "name": "stdin",
     "output_type": "stream",
     "text": [
      "what is your name? Jakkula Rama venkata Simha Chandra\n",
      "Where are you from? India\n"
     ]
    },
    {
     "data": {
      "text/plain": [
       "'India'"
      ]
     },
     "execution_count": 17,
     "metadata": {},
     "output_type": "execute_result"
    }
   ],
   "source": [
    "input (\"what is your name?\")\n",
    "input (\"Where are you from?\")"
   ]
  },
  {
   "cell_type": "code",
   "execution_count": 23,
   "id": "b81921db-5485-48d4-a54b-488de74fb158",
   "metadata": {},
   "outputs": [
    {
     "name": "stdout",
     "output_type": "stream",
     "text": [
      "/\\_/\\  \n",
      ">^.^<  \n",
      " / \\  \n",
      "(____)___\n"
     ]
    },
    {
     "name": "stderr",
     "output_type": "stream",
     "text": [
      "<>:1: SyntaxWarning: invalid escape sequence '\\_'\n",
      "<>:3: SyntaxWarning: invalid escape sequence '\\ '\n",
      "<>:1: SyntaxWarning: invalid escape sequence '\\_'\n",
      "<>:3: SyntaxWarning: invalid escape sequence '\\ '\n",
      "C:\\Users\\chand\\AppData\\Local\\Temp\\ipykernel_2044\\1792758347.py:1: SyntaxWarning: invalid escape sequence '\\_'\n",
      "  print (\"/\\_/\\  \")\n",
      "C:\\Users\\chand\\AppData\\Local\\Temp\\ipykernel_2044\\1792758347.py:3: SyntaxWarning: invalid escape sequence '\\ '\n",
      "  print (\" / \\  \")\n"
     ]
    }
   ],
   "source": [
    "print (\"/\\_/\\  \")\n",
    "print (\">^.^<  \")\n",
    "print (\" / \\  \")\n",
    "print (\"(____)___\")"
   ]
  },
  {
   "cell_type": "markdown",
   "id": "34fa80f7-f3cd-48a0-81dc-eb5f34f7ca7c",
   "metadata": {},
   "source": [
    "                                             REGISTRATION FORM\n",
    "                                first_name = __________\n",
    "                                last_name = ___________"
   ]
  },
  {
   "cell_type": "markdown",
   "id": "71286fa7-24a6-4710-a207-c99e5e890c89",
   "metadata": {},
   "source": [
    "                     Registration form fortheeventparticipants."
   ]
  },
  {
   "cell_type": "markdown",
   "id": "86d9b564-bb33-4ec2-a118-eeeed0396859",
   "metadata": {},
   "source": [
    "                    A variable is a label assigned to a value."
   ]
  },
  {
   "cell_type": "code",
   "execution_count": 24,
   "id": "c43c4606-53e0-4c04-9345-a0551dfe51f7",
   "metadata": {},
   "outputs": [],
   "source": [
    "first_name = \"Jakkula Rama Venkata\"\n",
    "last_name = \"Simha Chandra\""
   ]
  },
  {
   "cell_type": "code",
   "execution_count": 25,
   "id": "7591b4b3-8fbe-476f-874a-6a1b39616aad",
   "metadata": {},
   "outputs": [
    {
     "name": "stdout",
     "output_type": "stream",
     "text": [
      "Jakkula Rama Venkata\n",
      "Simha Chandra\n"
     ]
    }
   ],
   "source": [
    "print (first_name)\n",
    "print (last_name)"
   ]
  },
  {
   "cell_type": "markdown",
   "id": "aba81880-fb75-4eac-8091-2ee259f8c463",
   "metadata": {},
   "source": [
    "                                              2 Favorites"
   ]
  },
  {
   "cell_type": "code",
   "execution_count": 27,
   "id": "b4f9ad1d-403f-4b2c-a21f-57e53400dfe4",
   "metadata": {},
   "outputs": [
    {
     "name": "stdin",
     "output_type": "stream",
     "text": [
      "what is your name? Jakkula Rama venkata Simha Chandra\n"
     ]
    }
   ],
   "source": [
    "name = input (\"what is your name?\")"
   ]
  },
  {
   "cell_type": "code",
   "execution_count": 28,
   "id": "f3d467a6-0a2e-485b-8539-35d87ca17fa9",
   "metadata": {},
   "outputs": [
    {
     "name": "stdin",
     "output_type": "stream",
     "text": [
      "what's your favorite food? Ragi Malt\n"
     ]
    }
   ],
   "source": [
    "favorite_food = input (\"what's your favorite food?\")"
   ]
  },
  {
   "cell_type": "code",
   "execution_count": 30,
   "id": "62ec0454-8863-45d1-8c3c-1752f2ce526a",
   "metadata": {},
   "outputs": [
    {
     "name": "stdout",
     "output_type": "stream",
     "text": [
      "Hi! My name is Jakkula Rama venkata Simha Chandra\n",
      "My favorite food is Ragi Malt\n",
      "Jakkula Rama venkata Simha Chandra' s favorite food is Ragi Malt\n"
     ]
    }
   ],
   "source": [
    "print (\"Hi! My name is \" + name)\n",
    "print (\"My favorite food is \" + favorite_food)\n",
    "print (name + \"' s favorite food is \" + favorite_food)"
   ]
  },
  {
   "cell_type": "code",
   "execution_count": null,
   "id": "48df0970-4b76-40b5-8d7d-46de0083646a",
   "metadata": {},
   "outputs": [],
   "source": []
  }
 ],
 "metadata": {
  "kernelspec": {
   "display_name": "Python 3 (ipykernel)",
   "language": "python",
   "name": "python3"
  },
  "language_info": {
   "codemirror_mode": {
    "name": "ipython",
    "version": 3
   },
   "file_extension": ".py",
   "mimetype": "text/x-python",
   "name": "python",
   "nbconvert_exporter": "python",
   "pygments_lexer": "ipython3",
   "version": "3.12.4"
  }
 },
 "nbformat": 4,
 "nbformat_minor": 5
}
